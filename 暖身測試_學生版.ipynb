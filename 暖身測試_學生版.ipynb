{
  "nbformat": 4,
  "nbformat_minor": 0,
  "metadata": {
    "colab": {
      "name": "暖身測試_學生版.ipynb",
      "provenance": [],
      "authorship_tag": "ABX9TyM8h1GmtwKoC+VBaYR9CMyC",
      "include_colab_link": true
    },
    "kernelspec": {
      "name": "python3",
      "display_name": "Python 3"
    },
    "language_info": {
      "name": "python"
    }
  },
  "cells": [
    {
      "cell_type": "markdown",
      "metadata": {
        "id": "view-in-github",
        "colab_type": "text"
      },
      "source": [
        "<a href=\"https://colab.research.google.com/github/u8726505/Yin/blob/main/%E6%9A%96%E8%BA%AB%E6%B8%AC%E8%A9%A6_%E5%AD%B8%E7%94%9F%E7%89%88.ipynb\" target=\"_parent\"><img src=\"https://colab.research.google.com/assets/colab-badge.svg\" alt=\"Open In Colab\"/></a>"
      ]
    },
    {
      "cell_type": "code",
      "metadata": {
        "id": "_8QZJMq9UsEm"
      },
      "source": [
        "from PIL import Image\n",
        "from math import *\n",
        "import random\n"
      ],
      "execution_count": null,
      "outputs": []
    },
    {
      "cell_type": "code",
      "metadata": {
        "colab": {
          "base_uri": "https://localhost:8080/"
        },
        "id": "2dULVzrytFTL",
        "outputId": "b4402c1b-0cde-4382-cfc6-cb0e8b125e4b"
      },
      "source": [
        "2+3"
      ],
      "execution_count": null,
      "outputs": [
        {
          "output_type": "execute_result",
          "data": {
            "text/plain": [
              "5"
            ]
          },
          "metadata": {},
          "execution_count": 2
        }
      ]
    },
    {
      "cell_type": "code",
      "metadata": {
        "colab": {
          "base_uri": "https://localhost:8080/"
        },
        "id": "Yb_UTMTttIlh",
        "outputId": "8be920d4-9c36-46d7-afbf-4c04d5bc0543"
      },
      "source": [
        "3*10**3"
      ],
      "execution_count": null,
      "outputs": [
        {
          "output_type": "execute_result",
          "data": {
            "text/plain": [
              "3000"
            ]
          },
          "metadata": {},
          "execution_count": 3
        }
      ]
    },
    {
      "cell_type": "code",
      "metadata": {
        "colab": {
          "base_uri": "https://localhost:8080/",
          "height": 165
        },
        "id": "DvTA__cFtNTr",
        "outputId": "e81024c6-6e30-4913-9ebe-bff6046f558d"
      },
      "source": [
        "log100"
      ],
      "execution_count": null,
      "outputs": [
        {
          "output_type": "error",
          "ename": "NameError",
          "evalue": "ignored",
          "traceback": [
            "\u001b[0;31m---------------------------------------------------------------------------\u001b[0m",
            "\u001b[0;31mNameError\u001b[0m                                 Traceback (most recent call last)",
            "\u001b[0;32m<ipython-input-4-52c8a55f9d65>\u001b[0m in \u001b[0;36m<module>\u001b[0;34m()\u001b[0m\n\u001b[0;32m----> 1\u001b[0;31m \u001b[0mlog100\u001b[0m\u001b[0;34m\u001b[0m\u001b[0;34m\u001b[0m\u001b[0m\n\u001b[0m",
            "\u001b[0;31mNameError\u001b[0m: name 'log100' is not defined"
          ]
        }
      ]
    },
    {
      "cell_type": "markdown",
      "metadata": {
        "id": "u57BN0esyWha"
      },
      "source": [
        "##log指令\n",
        "log(x, [base=math.e])\n",
        "Return the logarithm of x to the given base.\n",
        "\n",
        "If the base not specified, returns the natural logarithm (base e) of x."
      ]
    },
    {
      "cell_type": "code",
      "metadata": {
        "colab": {
          "base_uri": "https://localhost:8080/"
        },
        "id": "x1In2Lbwt8zA",
        "outputId": "7dc21a08-3533-4074-c38c-0cc2b10a16c1"
      },
      "source": [
        "log(100)"
      ],
      "execution_count": null,
      "outputs": [
        {
          "output_type": "execute_result",
          "data": {
            "text/plain": [
              "4.605170185988092"
            ]
          },
          "metadata": {},
          "execution_count": 5
        }
      ]
    },
    {
      "cell_type": "code",
      "metadata": {
        "colab": {
          "base_uri": "https://localhost:8080/"
        },
        "id": "xMfqhk3PuC7d",
        "outputId": "c1f855e3-5bb6-4f72-f412-22956dc530a3"
      },
      "source": [
        "log(100,10)"
      ],
      "execution_count": null,
      "outputs": [
        {
          "output_type": "execute_result",
          "data": {
            "text/plain": [
              "2.0"
            ]
          },
          "metadata": {},
          "execution_count": 6
        }
      ]
    },
    {
      "cell_type": "code",
      "metadata": {
        "colab": {
          "base_uri": "https://localhost:8080/"
        },
        "id": "yoyZsOqe06qu",
        "outputId": "87bdb139-fa63-41cb-e276-303602865c6b"
      },
      "source": [
        "# 需要導入模塊: import math [as 別名]\n",
        "# 或者: from math import pi [as 別名]\n",
        "import math\n",
        "from math import pi as pi\n",
        "from math import sin as sin\n",
        "from math import tan as tan\n",
        "tan(0)"
      ],
      "execution_count": null,
      "outputs": [
        {
          "output_type": "execute_result",
          "data": {
            "text/plain": [
              "0.0"
            ]
          },
          "metadata": {},
          "execution_count": 5
        }
      ]
    },
    {
      "cell_type": "code",
      "metadata": {
        "colab": {
          "base_uri": "https://localhost:8080/"
        },
        "id": "HR81TJk322VK",
        "outputId": "c4e73b66-191b-4e0b-812d-e11c2b3d92e0"
      },
      "source": [
        "from math import *\n",
        "\n",
        "n = int(input(\"請輸入邊數:\"))\n",
        "print(\"upper bound of pi\",n*tan(pi/n))\n",
        "print(\"lower bound of pi\",n*sin(pi/n))"
      ],
      "execution_count": null,
      "outputs": [
        {
          "output_type": "stream",
          "name": "stdout",
          "text": [
            "請輸入邊數:6\n",
            "upper bound of pi 3.4641016151377544\n",
            "lower bound of pi 2.9999999999999996\n"
          ]
        }
      ]
    },
    {
      "cell_type": "markdown",
      "metadata": {
        "id": "invnCiVWyLsZ"
      },
      "source": [
        "##range指令\n",
        "range(*args, **kwargs)\n",
        "\n",
        "range(stop) -> range object\n",
        "range(start, stop[, step]) -> range object\n",
        "\n",
        "Return an object that produces a sequence of integers from start (inclusive)\n",
        "to stop (exclusive) by step.  range(i, j) produces i, i+1, i+2, ..., j-1.\n",
        "start defaults to 0, and stop is omitted!  range(4) produces 0, 1, 2, 3.\n",
        "These are exactly the valid indices for a list of 4 elements.\n",
        "When step is given, it specifies the increment (or decrement).\n"
      ]
    },
    {
      "cell_type": "code",
      "metadata": {
        "colab": {
          "base_uri": "https://localhost:8080/"
        },
        "id": "WPwJ1U4Auezs",
        "outputId": "b58691d0-4b3e-4f32-8e55-3413995e0491"
      },
      "source": [
        "for i in r(9):\n",
        "    print (i)\n"
      ],
      "execution_count": null,
      "outputs": [
        {
          "output_type": "stream",
          "name": "stdout",
          "text": [
            "0\n",
            "1\n",
            "2\n",
            "3\n",
            "4\n",
            "5\n",
            "6\n",
            "7\n",
            "8\n"
          ]
        }
      ]
    },
    {
      "cell_type": "code",
      "metadata": {
        "id": "9o2CK5xIvpry"
      },
      "source": [
        ""
      ],
      "execution_count": null,
      "outputs": []
    }
  ]
}